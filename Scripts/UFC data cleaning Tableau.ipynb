{
 "cells": [
  {
   "cell_type": "code",
   "execution_count": 1,
   "id": "676043b3",
   "metadata": {},
   "outputs": [],
   "source": [
    "import pandas as pd\n",
    "import numpy as np\n",
    "import os\n",
    "file_path = 'C:/Users/luis/Desktop/Carrer Foundry boot camp/Advanced Analytics & Dashboard Design/Data/Prepared Data/merged_winners.csv'\n",
    "df = pd.read_csv(file_path)"
   ]
  },
  {
   "cell_type": "code",
   "execution_count": 2,
   "id": "d9688806",
   "metadata": {},
   "outputs": [
    {
     "data": {
      "text/plain": [
       "Index(['Fighter', 'Fight Date', 'Fight Location', 'City', 'State', 'Country',\n",
       "       'Winner', 'Is Title Bout', 'Weight Class', 'Average Knockdowns',\n",
       "       'Average Knockdowns Taken', 'Average Significant Strikes Percentage',\n",
       "       'Average Significant Strikes Percentage Taken',\n",
       "       'Average Takedown Percentage', 'Average Takedown Percentage Taken',\n",
       "       'Average Submission Attempts', 'Average Submission Attempts Taken',\n",
       "       'Average Reversals', 'Average Reversals Taken',\n",
       "       'Average Significant Strikes Attempted',\n",
       "       'Average Significant Strikes Landed',\n",
       "       'Average Significant Strikes Attempted Taken',\n",
       "       'Average Significant Strikes Landed Taken',\n",
       "       'Average Total Strikes Attempted', 'Average Total Strikes Landed',\n",
       "       'Average Total Strikes Attempted Taken',\n",
       "       'Average Total Strikes Landed Taken', 'Average Takedown Attempts',\n",
       "       'Average Takedowns Landed', 'Average Takedown Attempts Taken',\n",
       "       'Average Takedowns Landed Taken', 'Average Head Strikes Attempted',\n",
       "       'Average Head Strikes Landed', 'Average Head Strikes Attempted Taken',\n",
       "       'Average Head Strikes Landed Taken', 'Average Body Strikes Attempted',\n",
       "       'Average Body Strikes Landed', 'Average Body Strikes Attempted Taken',\n",
       "       'Average Body Strikes Landed Taken', 'Average Leg Strikes Attempted',\n",
       "       'Average Leg Strikes Landed', 'Average Leg Strikes Attempted Taken',\n",
       "       'Average Leg Strikes Landed Taken',\n",
       "       'Average Distance Strikes Attempted', 'Average Distance Strikes Landed',\n",
       "       'Average Distance Strikes Attempted Taken',\n",
       "       'Average Distance Strikes Landed Taken',\n",
       "       'Average Clinch Strikes Attempted', 'Average Clinch Strikes Landed',\n",
       "       'Average Clinch Strikes Attempted Taken',\n",
       "       'Average Clinch Strikes Landed Taken',\n",
       "       'Average Ground Strikes Attempted', 'Average Ground Strikes Landed',\n",
       "       'Average Ground Strikes Attempted Taken',\n",
       "       'Average Ground Strikes Landed Taken', 'Average Control Time (Seconds)',\n",
       "       'Average Control Time Taken (Seconds)', 'Total Time Fought (Seconds)',\n",
       "       'Total Rounds Fought', 'Total Title Bouts', 'Current Win Streak',\n",
       "       'Current Lose Streak', 'Longest Win Streak', 'Wins', 'Losses', 'Draws',\n",
       "       'Wins By Decision Majority', 'Wins By Decision Split',\n",
       "       'Wins By Decision Unanimous', 'Wins By KO/TKO', 'Wins By Submission',\n",
       "       'Wins By TKO Doctor Stoppage', 'Fighter Stance', 'Fighter Height (cm)',\n",
       "       'Fighter Reach (cm)', 'Fighter Weight (lbs)', 'Fighter Age'],\n",
       "      dtype='object')"
      ]
     },
     "execution_count": 2,
     "metadata": {},
     "output_type": "execute_result"
    }
   ],
   "source": [
    "df.columns"
   ]
  },
  {
   "cell_type": "code",
   "execution_count": 3,
   "id": "66c38dc0",
   "metadata": {},
   "outputs": [
    {
     "data": {
      "text/plain": [
       "array(['Adrian Yanez', 'Trevin Giles', 'Tai Tuivasa', ...,\n",
       "       'Mario Miranda', 'John Salter', 'Mike Guymon'], dtype=object)"
      ]
     },
     "execution_count": 3,
     "metadata": {},
     "output_type": "execute_result"
    }
   ],
   "source": [
    "df['Fighter'].unique()"
   ]
  },
  {
   "cell_type": "code",
   "execution_count": 5,
   "id": "18b4b26f",
   "metadata": {},
   "outputs": [
    {
     "name": "stdout",
     "output_type": "stream",
     "text": [
      "['Adrian Yanez', 'Trevin Giles', 'Tai Tuivasa', 'Derek Brunson', 'Montel Jackson', 'Bruno Silva', 'Charles Jourdain', 'Angela Hill', 'Dan Ige', 'Nasrat Haqparast', 'Matthew Semelsberger', 'Rani Yahya', 'Dominick Cruz', 'Jan Blachowicz', 'Amanda Nunes', 'Islam Makhachev', 'Tim Elliott', 'Uros Medic', 'Kennedy Nzechukwu', 'Sean Brady', 'Pedro Munhoz', 'Alex Caceres', 'Alexis Davis', 'Dustin Jacoby', 'Phil Hawes', 'Jared Gordon', 'Aiemann Zahabi', 'Serghei Spivac', 'Belal Muhammad', 'Kamaru Usman', 'Ricky Simon', 'Kelvin Gastelum', 'Polyana Viana', 'Gabe Green', 'Alexandre Pantoja', 'Karol Rosa', 'Devonte Smith', 'Cory Sandhagen', 'Ode Osbourne', 'SeungWoo Choi', 'Timur Valiev', 'Julianna Pena', 'Dustin Poirier', 'Brad Tavares', 'Arman Tsarukyan', 'Marina Rodriguez', 'Amir Albazi', 'Omari Akhmedov', 'Warlley Alves', 'Matt Schnell', 'Ike Villanueva', 'Michael Chiesa', 'Lerone Murphy', 'Su Mudaerji', 'Francisco Figueiredo', 'Mike Davis', 'Dalcha Lungiambula', 'Umar Nurmagomedov', 'Punahele Soriano', 'Carlos Felipe', 'Carlos Condit', 'Max Holloway', 'Deron Winn', 'Stephen Thompson', 'Jose Aldo', 'Anthony Pettis', 'Marcin Tybura', 'Michel Pereira', 'Jimmy Flick', 'Tafon Nchukwi', 'Christos Giagos', 'Kevin Holland', 'Mackenzie Dern', 'Gavin Tucker', 'Cub Swanson', 'Tecia Torres', 'Chase Hooper', 'Gabriel Benitez', 'Roman Dolidze', 'Ilia Topuria', 'Louis Smolka', 'Jonathan Pearce', 'Miguel Baeza', 'Anthony Smith', 'Gina Mazany', 'Brandon Moreno', 'Joaquin Buckley', 'Katlyn Chookagian', 'Antonina Shevchenko', 'Valentina Shevchenko', 'Deiveson Figueiredo', 'Alan Jouban', 'Kyle Daukaus', 'Ashley Yoder', 'Alex Morono', \"Don'Tale Mayes\", 'Andrei Arlovski', 'Alexandr Romanov', 'Darren Elkins', 'Giga Chikadze', 'Raoni Barcelos', 'Gustavo Lopez', 'Max Griffin', 'Sean Strickland', 'Uriah Hall', 'Bryce Mitchell', 'Miles Johns', 'Alexander Volkov', 'Magomed Ankalaev', 'Robert Whittaker', 'Lauren Murphy', 'Khabib Nurmagomedov', 'Joel Alvarez', 'Jimmy Crute', 'Junyong Park', 'Gillian Robertson', 'Brian Ortega', 'Said Nurmagomedov', 'Tom Breese', 'Chris Daukaus', 'Tom Aspinall', 'Edson Barboza', 'Tracy Cortez', 'Germaine de Randamie', 'Kyler Phillips', 'Holly Holm', 'Loma Lookboonmee', 'Casey Kenney', 'Luigi Vendramini', 'Ketlen Vieira', 'Israel Adesanya', 'Brad Riddell', 'Hakeem Dawodu', 'William Knight', 'Juan Espino', 'Johnny Walker', 'Colby Covington', 'Khamzat Chimaev', 'Jessica-Rose Clark', 'Darrick Minner', 'Mayra Bueno Silva', 'Andre Ewell', 'Tyson Nam', 'Bobby Green', 'Billy Quarantillo', 'Michelle Waterson', 'Roxanne Modafferi', 'Ed Herman', 'Ottman Azaitar', 'Bryan Barberena', 'Sabina Mazo', 'Ovince Saint Preux', 'Brian Kelleher', 'Viviane Araujo', 'Andre Muniz', 'Alistair Overeem', 'Ricardo Lamas', 'Mallory Martin', 'Daniel Rodriguez', 'Amanda Lemos', 'Stipe Miocic', 'Kai Kamaka', 'Tim Means', 'Derrick Lewis', 'Yana Kunitskaya', 'Beneil Dariush', 'Youssef Zalal', 'Irwin Rivera', 'Andrew Sanchez', 'Jamall Emmers', 'Vicente Luque', 'Alex Oliveira', 'Mauricio Rua', 'Francisco Trinaldo', 'Carla Esparza', 'Paul Craig', 'Fabricio Werdum', 'Tanner Boser', 'Movsar Evloev', 'Ramazan Emeev', 'Nathaniel Wood', 'Jack Hermansson', 'Grant Dawson', 'Ariane Lipski', 'Brett Johns', 'Modestas Bukauskas', 'Jimmie Rivera', 'Calvin Kattar', 'Jack Shore', 'Makwan Amirkhani', 'Petr Yan', 'Alexander Volkanovski', 'Amanda Ribas', 'Leonardo Santos', 'Raulian Paiva', 'Mike Perry', 'Brendan Allen', 'Takashi Sato', 'Kay Hansen', 'Jim Miller', 'Curtis Blaydes', 'Josh Emmett', 'Raquel Pennington', 'Austin Hubbard', 'Mariya Agapova', 'Andre Fili', 'Merab Dvalishvili', 'Jordan Espinosa', 'Charles Rosa', 'Julia Avila', 'Cody Stamann', 'Aljamain Sterling', 'Neil Magny', 'Ian Heinisch', 'Roosevelt Roberts', 'Chris Gutierrez', 'Claudia Gadelha', 'Song Yadong', 'Cortney Casey', 'Rodrigo Nascimento', 'Ben Rothwell', 'Sijara Eubanks', 'Chase Sherman', 'Aleksei Oleinik', 'Francis Ngannou', 'Henry Cejudo', 'Greg Hardy', 'Ryan Spann', 'Renato Moicano', 'Elizeu Zaleski dos Santos', \"Sean O'Malley\", 'Zhang Weili', 'Rodolfo Vieira', 'Mark Madsen', 'Batgerel Danaa', 'Gerald Meerschaert', 'Felicia Spencer', 'Megan Anderson', 'Jordan Griffin', 'Luis Pena', 'Jalin Turner', 'Jake Matthews', 'Kai Kara-France', 'Priscila Cachoeira', 'Lando Vannata', 'Brok Weaver', 'Montana De La Rosa', 'Diego Sanchez', 'John Dodson', 'Devin Clark', 'Macy Chiasson', 'Jon Jones', 'Justine Kish', 'Bevon Lewis', 'Jamahal Hill', 'Arnold Allen', 'Sara McMann', 'Herbert Burns', 'Conor McGregor', 'Drew Dober', 'Aleksa Camur', 'Volkan Oezdemir', 'Da-Un Jung', 'Kyung Ho Kang', 'Ciryl Gane', 'Heili Alateng', 'Geoff Neal', 'Marlon Moraes', 'Matt Brown', 'Jessica Eye', 'Aspen Ladd', 'Rob Font', 'Joe Solecki', 'Virna Jandiroba', 'Makhmud Muradov', 'Charles Oliveira', 'Ricardo Ramos', 'Douglas Silva de Andrade', 'Shamil Gamzatov', 'Rustam Khabilov', 'Zabit Magomedsharipov', 'Kevin Lee', 'Jorge Masvidal', 'Shane Burgos', 'Corey Anderson', 'Lyman Good', 'Randa Markos', 'Muslim Salikhov', 'Demian Maia', 'Raphael Pessoa', 'Maycee Barber', 'Molly McCann', 'Joe Lauzon', 'Dominick Reyes', 'Yair Rodriguez', 'Randy Costa', 'Matt Frevola', 'Eryk Anders', 'Joanna Jedrzejczyk', 'Niko Price', 'Marlon Vera', 'Marvin Vettori', 'JJ Aldrich', 'Callan Potter', 'Ion Cutelaba', 'Nicolas Dalby', 'Marc Diakiese', 'Jose Quinonez', 'Irene Aldana', 'Claudio Puelles', 'Sergio Pettis', 'Misha Cirkunov', 'Glover Teixeira', 'Chas Skelly', 'Joanne Calderwood', 'Don Madge', 'Li Jingliang', 'Song Kenan', 'Damir Ismagulov', 'Hannah Cifers', 'Eduardo Garagorri', 'Gilbert Burns', 'Enrique Barzola', 'Rogerio Bontorin', 'Veronica Macedo', 'Scott Holtzman', 'Miranda Granger', 'Claudio Silva', 'Mickey Gall', 'Cristiane Justino', 'Erik Koch', 'Alexander Hernandez', 'Ray Borg', 'Mario Bautista', 'Urijah Faber', 'Karl Roberson', 'Benito Lopez', 'Edmen Shahbazyan', 'Alonzo Menifield', 'Maurice Greene', 'Andrea Lee', 'Tatiana Suarez', 'Tony Ferguson', 'Yan Xiaonan', 'Eddie Wineland', 'Daniel Teymur', 'Bea Malecki', 'Davi Ramos', 'Rafael Dos Anjos', 'Desmond Green', 'Zak Cummings', 'Julio Arce', 'Jared Cannonier', 'Thiago Moises', 'Luana Carolina', 'Walt Harris', 'Nordine Taleb', 'Arjan Bhullar', 'Alexander Yakovlev', 'Krzysztof Jotko', 'Sergei Pavlovich', 'Sultan Aliev', 'Magomed Mustafaev', 'Brandon Davis', 'Sodiq Yusuff', 'Alex Perez', 'Jussier Formiga', 'John Makdessi', 'Jack Marshman', 'Leon Edwards', 'Mike Grundy', 'Blagoy Ivanov', 'Anthony Rocco Martin', 'Alex White', 'Dwight Grant', 'Liz Carmouche', 'Stefan Struve', 'Damir Hadzovic', 'Shane Young', 'Mara Romero Borella', 'Markus Perez', 'Livinha Souza', 'Thiago Alves', 'Geraldo de Freitas', 'Gregor Gillespie', 'Joseph Benavidez', 'Paige VanZant', 'Dennis Bermudez', 'Curtis Millender', 'Zak Ottow', 'Elias Theodorou', 'Brad Katona', 'Diego Ferreira', 'Wilson Reis', 'Junior Dos Santos', 'Keita Nakamura', 'Wu Yanan', 'Pingyuan Liu', 'Michel Prazeres', 'Cynthia Calvillo', 'Nad Narimani', 'Laureano Staropoli', 'Michael Trizano', 'Donald Cerrone', 'Mark De La Rosa', 'Daniel Cormier', 'Gian Villante', 'Michael Johnson', 'Andre Soukhamthath', 'Stevie Ray', 'Thiago Santos', 'Sergio Moraes', 'Augusto Sakai', 'Thales Leites', 'Aleksei Kunchenko', 'Khalid Murtazaliev', 'Mairbek Taisumov', 'Jessica Andrade', 'Abdul Razak Alhassan', 'Tyron Woodley', 'James Krause', 'Justin Gaethje', 'TJ Dillashaw', 'Jordan Mein', 'Dustin Ortiz', 'Devin Powell', 'Danny Roberts', 'Sage Northcutt', 'Cat Zingano', 'Jessica Aguilar', 'Raphael Assuncao', 'Dan Hooker', 'Alessio Di Chirico', 'John Gunther', 'Ji Yeon Kim', 'Lina Lansberg', 'Poliana Botelho', 'Cezar Ferreira', 'John Lineker', 'Justin Willis', 'Frankie Edgar', 'David Branch', 'Ryan LaFlare', 'Siyar Bahadurzada', 'Luke Sanders', 'Karolina Kowalkiewicz', 'Rose Namajunas', 'Tom Duquesnoy', 'Danny Henry', 'CB Dollaway', 'Jordan Johnson', 'Sam Alvey', 'James Vick', 'Oskar Piechota', 'Robert Sanchez', 'Tyson Pedro', 'Yoel Romero', 'Luke Jumeau', 'Ross Pearson', 'Timothy Johnson', 'Alan Patrick', 'Lyoto Machida', 'Iuri Alcantara', 'Jacare Souza', 'Mirsad Bektic', 'Vinc Pichel', 'Kyle Bochniak', 'Jeremy Stephens', 'Mads Burnell', 'Myles Jury', 'Julian Marquez', 'Chad Laprise', 'Santiago Ponzinibbio', 'Frankie Saenz', 'Alejandro Perez', 'David Teymur', 'Eddie Alvarez', 'Amanda Cooper', 'Felice Herrig', 'Nicco Montano', 'Wang Guan', 'Cyril Asker', 'Ryan Benoit', 'Nik Lentz', 'Jake Collier', 'Randy Brown', 'Antonio Carlos Junior', 'Marcelo Golm', 'Marcin Held', 'Demetrious Johnson', 'John Moraga', 'Teruto Ishihara', 'Syuri Kondo', 'Gokhan Saki', 'Shinsho Anzai', 'Daichi Abe', 'Luke Rockhold', 'Justin Ledet', 'Ilir Latifi', 'Sarah Moras', 'Kajan Johnson', 'Marion Reneau', 'Darren Till', 'Thibault Gouti', 'Joseph Morales', 'Robbie Lawler', 'Patrick Cummins', 'Chris Weidman', 'Khalil Rountree Jr.', 'Leslie Smith', 'Gray Maynard', 'Tim Boetsch', 'Clay Guida', 'Naoki Inoue', 'Paulo Costa', 'Vitor Belfort', 'Viviane Pereira', 'Luan Chagas', 'Alexander Gustafsson', 'Trevor Smith', 'Peter Sobotta', 'Al Iaquinta', 'Hector Sandoval', 'Gunnar Nelson', 'Jimi Manuwa', 'Joe Duffy', 'Brad Scott', 'Albert Morales', 'Mark Godbeer', 'Johny Hendricks', 'Paul Felder', 'Anderson Silva', 'Rick Glenn', 'Eric Spicely', 'Marcos Rogerio de Lima', 'Jason Gonzalez', 'Dong Hyun Kim', 'Olivier Aubin-Mercier', 'Juliana Lima', 'Dong Hyun Ma', 'Daniel Kelly', 'Damien Brown', 'Ben Nguyen', 'Thomas Almeida', 'Ryan Bader', 'Luis Henrique', 'Johnny Eduardo', 'Artem Lobov', 'Kyoji Horiguchi', 'Gegard Mousasi', 'Martin Bravo', 'Erik Perez', 'Alexa Grasso', 'Marco Polo Reyes', 'Michael Bisping', 'Shamil Abdurakhimov', 'Henrique da Silva', 'Nate Marquardt', 'Renan Barao', 'Godofredo Pepey', 'Roy Nelson', 'Erick Silva', 'Evan Dunham', 'Roan Carneiro', 'Yancy Medeiros', 'Ashlee Evans-Smith', 'Taylor Lapilus', 'Nick Hein', 'Jessin Ayari', 'Jeremy Kennedy', 'Cody Garbrandt', 'Anthony Johnson', 'Court McGee', 'Maryna Moroz', 'Nikita Krylov', 'Anthony Hamilton', 'Cain Velasquez', 'Joaquim Silva', 'Dooho Choi', 'Anthony Birchak', 'Felipe Arantes', 'Marco Beltran', 'Steve Bosse', 'Jason Saggo', 'Ali Bagautinov', 'Dan Henderson', 'Chris Camozzi', 'Abel Trujillo', 'Rogerio Nogueira', 'Magnus Cedenblad', 'Yuta Sasaki', 'Mark Hunt', 'Bec Rawlings', 'Vitor Miranda', 'Scott Askham', 'Davey Grant', 'Teemu Packalen', 'Daniel Omielanczuk', 'Mike Pyle', 'Joshua Burkman', 'Tarec Saffiedine', 'Rafael Natal', 'Patrick Cote', 'Travis Browne', 'Chris Wade', 'Francimar Barroso', 'Michael McDonald', 'Sheldon Westcott', 'Julian Erosa', 'Tatsuya Kawajiri', 'Gabriel Gonzaga', 'Chris Gruetzemacher', 'Zubaira Tukhugov', 'Kailin Curran', 'Dongi Yang', 'Seo Hee Ham', 'Tae Hyun Bang', 'Benson Henderson', 'Dominique Steele', 'Erick Montano', 'Kyle Noke', 'Richard Walsh', 'James Moontasri', 'Viscardi Andrade', 'Norman Parke', 'Aisling Daly', 'Neil Seery', 'Adriano Martins', 'Josh Barnett', 'Takeya Mizugaki', 'Joe Riggs', 'Shane Campbell', 'Chris Kelades', 'Jared Rosholt', 'Ronda Rousey', 'Antonio Silva', 'Glaico Franca Moreira', 'Reginaldo Vieira', 'Miesha Tate', 'Paddy Holohan', 'Mickael Lebout', 'Robert Whiteford', 'Sam Sicilia', 'Frank Mir', 'Kevin Casey', 'Maximo Blanco', 'Josh Samman', 'Michael Graves', 'George Sullivan', 'Leandro Silva', 'Hacran Dias', 'Efrain Escudero', 'Francisco Rivera', 'Shawn Jordan', 'Joe Proctor', 'Justin Scoggins', 'Mark Munoz', 'Phillipe Nover', 'Guangyou Ning', 'Alex Chambers', 'Quinton Jackson', 'Diego Brandao', 'Pawel Pawlak', 'Bartosz Fabinski', 'Chad Mendes', 'Ron Stallings', 'Edimilson Souza', 'Leonardo Mafra', 'Jake Ellenberger', 'Masio Fullen', 'Ivan Jorge', 'Zach Makovsky', 'Kenny Robertson', 'Viktor Pesta', 'Cathal Pendred', 'Johnny Case', 'Daniel Sarafian', 'Leandro Issa', 'David Michaud', 'Jessica Penne', 'Todd Duffee', 'Ruslan Magomedov', 'Matt Wiman', 'Augusto Montano', 'Henry Briones', 'Caio Magalhaes', 'Dhiego Lima', 'Diego Rivas', 'Soa Palelei', 'Anthony Perosh', 'Yan Cabral', 'Fabio Maldonado', 'Mitch Gagnon', 'Rory MacDonald', 'Daron Cruickshank', 'Albert Tumenov', 'Nicholas Musoke', 'Dennis Siver', 'Manvel Gamburyan', 'Kiichi Kunimoto', 'Katsunori Kikuno', 'Yoshihiro Akiyama', 'Hyun Gyu Lim', 'Gleison Tibau', 'Chris Beal', 'Matt Mitrione', 'Bethe Correia', 'Ben Saunders', 'Zhang Lipeng', 'Sai Wang', 'Alberto Mina', 'Thiago Tavares', 'Tom Watson', 'Lucas Martins', 'Rick Story', 'Yosdenis Cedeno', 'Patrick Walsh', 'Luke Zachrich', 'Joe Ellenberger', 'Marcelo Guimaraes', 'Clint Hester', 'Richie Vaculik', 'Valerie Letourneau', 'Yves Jabouin', 'Scott Jorgensen', 'Jon Tuck', 'Elias Silverio', 'Ricardo Abreu', 'Chris Holdsworth', 'Chris Cariaso', 'Constantinos Philippou', 'Justin Salas', 'Takanori Gomi', 'Danny Castillo', 'Ryan Jimmo', 'Sarah Kaufman', 'George Roop', 'Mark Bocek', 'Ramsey Nijem', 'Rony Jason', 'Luke Barnatt', 'Brad Pickett', 'Igor Araujo', 'Hatsu Hioki', 'Ernest Chavez', 'Rodrigo Damm', 'Ildemar Alcantara', 'Nick Catone', 'Cole Miller', 'Royston Wee', 'Dustin Kimura', 'William Macario', 'Robert Peralta', 'John Howard', 'Sam Stout', 'Akira Corassani', 'Jessamyn Duke', 'Sean Spencer', 'Josh Sampo', 'Georges St-Pierre', 'Rashad Evans', 'Jason High', 'Rafael Cavalcante', 'Tim Kennedy', 'Jimy Hettes', 'Gilbert Melendez', 'Rousimar Palhares', 'Thiago Silva', 'Brendan Schaub', 'Chico Camus', 'Dylan Andrews', 'Ian McCall', 'Mike Pierce', 'Sean Pierson', 'Jake Shields', 'Roland Delorme', 'Mitch Clarke', 'Antonio Braga Neto', 'Paulo Thiago', 'Phil Davis', 'Steven Siler', 'Bryan Caraway', 'Francis Carmont', 'Anthony Njokuani', 'Robert McDaniel', 'Reza Madadi', 'Tor Troeng', 'Papy Abedi', 'Mike Ricci', 'Yushin Okami', 'Wanderlei Silva', 'Nah-Shon Burrell', 'James Te Huna', 'Andy Ogle', 'Vaughan Lee', 'Phil Harris', 'TJ Grant', 'Ronny Markes', 'Colton Smith', 'TJ Waldburger', 'Johnny Bedford', 'Pat Barry', 'Mike Rio', 'Ben Alloway', 'Hector Lombard', 'Yves Edwards', 'Cyrille Diabate', 'Ivan Menjivar', 'Antonio Carvalho', 'Matthew Riddle', 'Riki Fukuda', 'Jon Fitch', 'Antonio Rodrigo Nogueira', 'Cristiano Marcello', 'Marcus LeVesseur', 'Jacob Volkmann', 'Darren Uyenoyama', 'Che Mills', 'Dan Hardy', 'John Hathaway', 'Matt Hamill', 'Seth Baczynski', 'Philip De Fries', 'Mike Swick', 'Cheick Kongo', 'Aaron Simpson', 'Melvin Guillard', 'Cung Le', 'Forrest Griffin', 'Rafaello Oliveira', 'Marcos Vinicius', 'Thiago Perpetuo', 'Brian Ebersole', 'Ken Stone', 'Dan Miller', 'Dustin Pague', 'Buddy Roberts', 'Henry Martinez', 'Justin Lawrence', 'Mike Brown', 'Cody McKenzie', 'Amir Sadollah', 'Igor Pokrajac', 'Chan Sung Jung', 'Nate Diaz', 'Louis Gaudinot', 'Mac Danzig', 'Marcus Brimage', 'Brian Stann', 'Jason Young', 'Simeon Thoresen', 'Jonathan Brookins', 'Josh Koscheck', 'Mike Russow', 'Chael Sonnen', 'Mike Easton', 'Charlie Brenneman', 'Jorge Rivera', 'Fabricio Camoes', 'Daniel Pineda', 'Stephan Bonnar', 'Miguel Torres', 'DaMarques Johnson', 'Aaron Rosa', 'Terry Etim', 'Michihiro Omigawa', 'John Maguire', 'Brandon Vera', 'Walel Watson', 'Josh Neer', 'Junior Assuncao', 'Alan Belcher', 'Justin Edwards', 'Edwin Figueroa', 'Brian Bowles', 'Tito Ortiz', 'Jeff Hougland', 'Tyson Griffin', 'Dave Herman', 'Kenny Florian', 'Nick Ring', 'Joey Beltran', 'Clay Harvison', 'Reuben Duran', 'Vladimir Matyushenko', 'Jason MacDonald', 'Luiz Cane', 'Zhang Tiequan', 'Kyle Kingsbury', 'Paul Taylor', 'Mark Hominick', 'Waylon Lowe', 'Daniel Roberts', 'Ian Loveland', 'George Sotiropoulos', 'Paul Kelly', 'Pascal Krauss', 'Duane Ludwig', 'Krzysztof Soszynski', 'Jon Madsen', 'Paul Sass', 'Rob Broughton', 'Spencer Fisher', 'Sean Sherk', 'Rich Attonito', 'Brian Foster', 'Randy Couture', 'Matt Hughes', 'Rob Kimmons', 'Chris Leben', 'Chris Lytle', 'Brock Lesnar', 'Kendall Grove', 'Gerald Harris', 'John Gunderson', 'Mirko Filipovic', 'James Wilks', 'Aaron Riley', 'Marcus Davis', 'Andre Winner', 'Ricardo Almeida', 'Kurt Pellegrino', 'Alessio Sakara', 'Matt Serra', 'Rob Emerson', 'Chris Tuchscherer', 'Martin Kampmann', 'Paul Daley', 'BJ Penn', 'James McSweeney', 'Kevin Ferguson', 'Nick Osipczak', 'Joe Stevenson', 'Tomasz Drwal', 'Eliot Marshall', 'Nate Quarry', 'Ryan Jensen', 'Jake Rosholt', 'Jesse Lennox', 'Mark Coleman', 'Tom Lawlor', 'Shannon Gugerty', 'Brad Blackburn', 'Jason Dent', 'Rich Franklin', 'Brock Larson', 'Tim Hague', 'Kyle Bradley', 'Drew McFedries', 'Yoshiyuki Yoshida', 'Denis Kang', 'Tim Credeur', 'Tamdan McCrory', 'Shane Carwin', 'Jason Brilz', 'Shane Nelson', 'Mike Ciesnolevicz', 'Matt Veach', \"Jake O'Brien\", 'Dan Cramer', 'Eric Schafer', 'Antoni Hardonk', 'Wilson Gouveia', 'Junie Browning', 'Rolando Delgado', 'Steve Cantwell', 'Steve Bruno', 'Luigi Fioravanti', 'Dale Hartt', 'Justin McCully', 'Dustin Hazelett', 'Pete Sell', 'Hermes Franca', 'David Bielkheden', 'Keith Jardine', 'Per Eklund', 'Mike Massenzio', 'Ryo Chonan', 'Chris Wilson', 'Rory Markham', 'Nate Loughran', 'Kevin Burns', 'Justin Buchholz', 'Dean Lister', 'Rich Clementi', 'Rameau Thierry Sokoudjou', 'Goran Reljic', 'Jason Day', 'Jonathan Goulet', 'Marcus Aurelio', 'James Irvin', 'Heath Herring', 'Jorge Gurgel', 'Marvin Eastman', 'Corey Hill', 'Chuck Liddell', 'Eddie Sanchez', 'Roman Mitichyan', 'War Machine', 'Troy Mandaloniz', 'Matt Arroyo', 'Roger Huerta', 'Karo Parisyan', 'Akihiro Gono', 'Tim Sylvia', 'Alvin Robinson', 'Matt Grice', 'Christian Wellisch', 'Luke Cummo', 'Houston Alexander', 'Jess Liaudin', 'Renato Sobral', 'Leonard Garcia', 'Forrest Petz', 'Nate Mohr', 'Terry Martin', 'Din Thomas', 'Kalib Starnes', 'Kuniyoshi Hironaka', 'Drew Fickett', 'Jason Lambert', 'Jamie Varner', 'David Heath', 'Logan Clark', 'Nick Diaz', 'Travis Lutter', 'Pete Spratt', 'Scott Smith', 'Charles McCarthy', 'Carmelo Marrero', 'Tony DeSouza', 'Rory Singer', 'Anthony Torres', 'Jeff Monson', 'Rob MacDonald', 'Jorge Santiago', 'Mike Nickels', 'Jeremy Horn', 'Evan Tanner', 'David Terrell', 'Dan Christison', 'Tom Murphy', 'Paul Buentello', 'Marcio Cruz', 'Jason Von Flue', 'Sam Hoger', 'Nick Thompson', 'Branden Lee Hinkle', 'David Loiseau', 'Trevor Prangley', 'Matt Lindland', 'Joe Doerksen', 'Mike van Arsdale', 'Ivan Salaverry', 'Alex Karalexis', 'Mike Kyle', 'Frank Trigg', 'Justin Eilers', 'Ken Shamrock', 'Genki Sudo', 'Jonathan Wiezorek', 'Josh Thomson', 'Renato Verissimo', 'Lee Murray', 'Wesley Correira', 'Pedro Rizzo', 'Keith Rockel', 'Falaniko Vitale', 'Kimo Leopoldo', 'Dave Strasser', 'Gan McGee', 'Carlos Newton', 'Phillip Miller', 'Caol Uno', 'Ricco Rodriguez', 'Phil Baroni', 'Ian Freeman', 'Mark Weir', 'Tony Fryklund', 'Benji Radach', 'Murilo Bustamante', 'Eugene Jackson', 'Gil Castillo', 'Jens Pulver', 'Kevin Randleman', 'Andrei Semenov', 'Dave Menne', 'Jutaro Nakao', 'Pat Miletich', 'Semmy Schilt', 'Shonie Carter', 'Fabiano Iha', 'Elvis Sinosic', 'Dennis Hallman', 'Ben Earwood', 'Mark Hughes', 'Yuki Kondo', 'Maurice Smith', 'Tyrone Roberts', 'Amaury Bitetti', 'Laverne Clark', 'Sanae Kikuta', 'Ron Waterman', 'Ikuhisa Minowa', 'Scott Adams', 'Tedd Williams', 'Bob Cook', 'Lance Gibson', 'Kenichi Yamamoto', 'Joe Slick', 'Katsuhisa Fujii', 'Brad Kohler', 'John Lewis', 'Frank Shamrock', 'Tsuyoshi Kohsaka', 'Andre Roberts', 'Paul Jones', 'Travis Fulton', 'Pete Williams', 'Bas Rutten', 'Marcelo Mello', 'Sione Latu', 'Gary Goodridge', 'Mikey Burnett', 'Ebenezer Fontes Braga', 'Tulio Palhares', 'David Abbott', 'Jerry Bohlander', 'Tra Telligman', 'Kazushi Sakuraba', 'Alex Hunter', 'Mark Kerr', 'Dwayne Cason', 'Dave Beneteau', 'Kevin Jackson', 'Joe Moreira', 'Dan Bobish', 'Guy Mezger', 'Enson Inoue', 'Steven Graham', 'Jack Nilson', 'Scott Ferrozzo', 'Yoshiki Takahashi', 'Don Frye', 'Brian Johnston', 'Geza Kalman', 'Dan Severn', 'Steve Nelmark', 'Mark Hall', 'Cal Worsham', 'Rafael Carino', 'Mark Schultz', 'Paul Varelans', 'Oleg Taktarov', 'Marco Ruas', 'Remco Pardoel', 'Scott Bessac', 'Patrick Smith', 'Todd Medina', 'Jon Hess', 'Royce Gracie', 'Steve Jennum', 'Keith Hackney', 'Harold Howard', 'Johnny Rhodes', 'Frank Hamaker', 'Jason DeLucia', 'Orlando Wiet', 'Scott Morris', 'Montserrat Conejo', 'Matheus Nicolau', 'Jinh Yu Frey', 'Aleksandar Rakic', 'Askar Askarov', 'Trevin Jones', 'Ronnie Lawrence', 'John Castaneda', \"Casey O'Neill\", 'Anthony Hernandez', 'Danilo Marques', 'Lara Procopio', 'Michael Chandler', 'Marcin Prachnio', 'Manon Fiorot', 'Joselyne Edwards', 'Vanessa Melo', 'Austin Lingo', 'Pannie Kianzad', 'Taila Santos', 'Rafael Fiziev', 'Jordan Leavitt', 'Norma Dumont', 'Parker Porter', 'Bill Algeo', 'Anderson Dos Santos', 'Nate Maness', 'Sasha Palatnikov', 'Cory McKenna', 'Kanako Murata', 'Tony Gravely', 'Khaos Williams', 'Jason Witt', 'Miranda Maverick', 'Shavkat Rakhmonov', 'Jonathan Martinez', 'Guram Kutateladze', 'Maxim Grishin', 'Fares Ziam', 'Dricus Du Plessis', 'Tony Kelley', 'Tagir Ulanbekov', 'Dusko Todorovic', 'Nassourdine Imavov', 'Brandon Royval', 'Ludovit Klein', 'Damon Jackson', 'David Dvorak', 'Hunter Azure', 'Impa Kasanganay', 'Jordan Wright', 'Mike Rodriguez', 'Shana Dobson', 'Jairzinho Rozenstruik', 'Danny Chavez', 'Darren Stewart', 'Jennifer Maia', 'Mounir Lazzez', 'Liana Jojua', 'Jiri Prochazka', 'Khama Worthy', 'Justin Jaynes', 'Christian Aguilera', 'Maki Pitolo', 'Nate Landwehr', 'Omar Morales', 'Spike Carlyle', 'Justin Tafa', 'Wellington Turman', 'David Zawada', 'Sean Woodson', 'Yorgan De Castro', 'John Phillips', 'Ismail Naurdiev', 'Steven Peterson', 'Kyle Nelson', 'Tristan Connelly', 'Inoue Mizuki', 'Drakkar Klose', 'Alex Da Silva', 'Klidson Abreu', 'Felipe Colares', 'Brianna Van Buren', 'Ryan Hall', 'Chance Rencountre', 'Sergey Khandozhko', 'Frank Camacho', 'Vince Morales', 'Matt Sayles', 'Cole Smith', 'Michal Oleksiejczuk', 'Khalid Taha', 'Kevin Aguilar', 'Saparbeg Safarov', 'Ben Askren', 'Chris Fishgold', 'Kron Gracie', 'Manny Bermudez', 'Emily Whitmire', 'Allen Crowder', 'Juan Adams', 'Nina Ansaroff', 'Leah Letson', 'Rashad Coulter', 'Jesus Pinedo', 'Austin Arnett', 'Eric Shelton', 'Jordan Rinaldi', 'Sheymon Moraes', 'Talita Bernardo', 'Jarred Brooks', 'Abu Azaitar', 'Darko Stosic', 'Chris de la Rocha', 'Jose Torres', 'Carlo Pedersoli Jr.', 'Guido Cannetti', 'Lauren Mueller', 'Adam Wieczorek', 'Charles Byrd', 'Dmitry Sosnovskiy', 'Lucie Pudilova', 'Ryan Janes', 'Rachael Ostovich', 'Alex Garcia', 'Rolando Dy', 'Nadia Kassem', 'Daniel Spitz', 'Abdul-Kerim Edilov', 'Humberto Bandenay', 'Aleksandra Albu', 'Junior Albini', 'Galore Bofando', 'Jesse Taylor', 'Jeremy Kimball', 'Darrell Horcher', 'Russell Doane', 'Matthew Lopez', 'Bojan Velickovic', 'Jason Knight', 'Gadzhimurad Antigulov', 'Danielle Taylor', 'Rashid Magomedov', 'Bibulatov Magomed', 'Joe Soto', 'Marcel Fortuna', 'Augusto Mendes', 'Joachim Christensen', 'Mizuto Hirota', 'Emil Meek', 'Jamie Moyle', 'Andrew Holbrook', 'Jonathan Meunier', 'Jenel Lausa', 'Damian Stasiak', 'Felipe Silva', 'Lorenz Larkin', 'Alex Nicholson', 'Will Brooks', 'Josh Stansbury', 'Adam Milstead', 'Oluwale Bamgbose', 'Nathan Coy', 'Michinori Tanaka', 'Geane Herrera', 'Mike de la Torre', 'Fredy Serrano', 'Alvaro Herrera Mendoza', 'Danny Martinez', 'Garreth McLellan', 'Tiago dos Santos e Silva', 'Frankie Perez', 'Jonathan Wilson', 'Elizabeth Phillips', 'Jerrod Sanders', 'Willie Gates', 'Cody Pfister', 'Tony Sims', 'Sirwan Kakai', 'Noad Lahat', 'Patrick Williams', 'Levan Makashvili', 'Jon Delos Reyes', 'Yao Zhikui', \"Sean O'Connell\", \"Brendan O'Reilly\", 'Chris Dempsey', 'Yaotzin Meza', 'Valmir Lazaro', 'Matt Dwyer', 'Joby Sanchez', 'Ian Entwistle', 'Heather Clark', 'Clay Collard', 'Roger Narvaez', 'Akbarh Arreola', 'Hector Urbina', 'Chris Clements', 'Mike Wilkinson', 'Masanori Kanehara', 'Matt Hobar', 'Milana Dudieva', 'Eddie Gordon', 'Bruno Santos', 'Cody Gibson', 'Vik Grujic', 'Piotr Hallmann', 'Lance Benoist', 'Gasan Umalatov', 'Niklas Backstrom', 'KJ Noons', 'Jim Alers', 'Hans Stringer', 'Francisco Trevino', 'Anying Wang', 'Yui Chul Nam', 'Mark Eddiva', 'Hugo Viana', 'Alptekin Ozkilic', 'Tom Niinimaki', 'Brandon Thatch', 'Adlan Amagov', 'Andrew Craig', 'Brian Melancon', 'Kazuki Tokudome', 'Renee Forte', 'Isaac Vallie-Flagg', 'David Mitchell', 'Cody Donovan', 'Pablo Garza', 'Diego Nunes', 'Vinny Magalhaes', 'Michael Kuiper', 'Nam Phan', 'James Head', 'Anton Kuivanen', 'Shane Roller', 'Lavar Johnson', 'Karlos Vemola', 'Eddie Yagin', 'Issei Tamura', 'Nick Denis', 'Carlo Prater', 'Jake Hecht', 'John Cholish', 'John Albert', 'Bart Palaszewski', 'Clifford Starks', 'Vagner Rocha', 'Stanislav Nedkov', 'Jared Hamman', 'Javier Vazquez', 'Shamar Bailey', 'Chris Cope', 'Claude Patrick', 'Mackens Semerzier', 'Christian Morecraft', 'Curt Warburton', 'Kyle Watson', 'Nick Pace', 'Maiquel Falcao', 'Carlos Eduardo Rocha', 'Sean McCorkle', 'Greg Soto', 'Ricardo Romero', 'Mario Miranda', 'John Salter', 'Mike Guymon']\n"
     ]
    }
   ],
   "source": [
    "# Convert the array to a list and print\n",
    "print(list(df['Fighter'].unique()))"
   ]
  },
  {
   "cell_type": "code",
   "execution_count": 7,
   "id": "9fa7b56f",
   "metadata": {},
   "outputs": [
    {
     "name": "stdout",
     "output_type": "stream",
     "text": [
      "Series([], Name: Fighter, dtype: object)\n"
     ]
    }
   ],
   "source": [
    "spaces = df['Fighter'][df['Fighter'].str.contains(r'^\\s|\\s$')]\n",
    "print(spaces)"
   ]
  },
  {
   "cell_type": "code",
   "execution_count": 8,
   "id": "101a32cf",
   "metadata": {},
   "outputs": [
    {
     "name": "stdout",
     "output_type": "stream",
     "text": [
      "148        Jessica-Rose Clark\n",
      "304           Kai Kara-France\n",
      "337                Da-Un Jung\n",
      "434                Da-Un Jung\n",
      "435           Kai Kara-France\n",
      "606           Kai Kara-France\n",
      "998       Khalil Rountree Jr.\n",
      "1140    Olivier Aubin-Mercier\n",
      "1225       Ashlee Evans-Smith\n",
      "1296    Olivier Aubin-Mercier\n",
      "1492    Olivier Aubin-Mercier\n",
      "1604    Olivier Aubin-Mercier\n",
      "1739    Olivier Aubin-Mercier\n",
      "2014        Georges St-Pierre\n",
      "2170        Georges St-Pierre\n",
      "2188         Nah-Shon Burrell\n",
      "2240        Georges St-Pierre\n",
      "2545        Georges St-Pierre\n",
      "2601        Georges St-Pierre\n",
      "2701        Georges St-Pierre\n",
      "2851        Georges St-Pierre\n",
      "2947        Georges St-Pierre\n",
      "3048        Georges St-Pierre\n",
      "3105        Georges St-Pierre\n",
      "3167        Georges St-Pierre\n",
      "3233        Georges St-Pierre\n",
      "3354        Georges St-Pierre\n",
      "3468        Georges St-Pierre\n",
      "3493        Georges St-Pierre\n",
      "3524        Georges St-Pierre\n",
      "3548        Georges St-Pierre\n",
      "3585        Georges St-Pierre\n",
      "3602        Georges St-Pierre\n",
      "3993          Kai Kara-France\n",
      "4350      Khalil Rountree Jr.\n",
      "4445          Kai Kara-France\n",
      "4523      Khalil Rountree Jr.\n",
      "4560      Carlo Pedersoli Jr.\n",
      "4585       Ashlee Evans-Smith\n",
      "4586    Olivier Aubin-Mercier\n",
      "4628       Jessica-Rose Clark\n",
      "4663       Jessica-Rose Clark\n",
      "4681        Georges St-Pierre\n",
      "4700    Olivier Aubin-Mercier\n",
      "4710       Abdul-Kerim Edilov\n",
      "4816      Khalil Rountree Jr.\n",
      "5003       Ashlee Evans-Smith\n",
      "5551       Isaac Vallie-Flagg\n",
      "Name: Fighter, dtype: object\n"
     ]
    }
   ],
   "source": [
    "import re\n",
    "special_chars = df['Fighter'][df['Fighter'].apply(lambda x: bool(re.search(r'[^a-zA-Z\\s\\']', x)))]\n",
    "print(special_chars)"
   ]
  },
  {
   "cell_type": "code",
   "execution_count": 14,
   "id": "d8d288d3",
   "metadata": {},
   "outputs": [],
   "source": [
    "# Convert 'Fight Date' to datetime\n",
    "df['Fight Date'] = pd.to_datetime(df['Fight Date'])"
   ]
  },
  {
   "cell_type": "code",
   "execution_count": 16,
   "id": "69914c86",
   "metadata": {},
   "outputs": [],
   "source": [
    "# To display all rows without truncation\n",
    "pd.set_option('display.max_rows', None)"
   ]
  },
  {
   "cell_type": "code",
   "execution_count": 18,
   "id": "545ae415",
   "metadata": {},
   "outputs": [],
   "source": [
    "categorical_columns = ['Fighter', 'Fight Location', 'City', 'State', 'Country', 'Winner', 'Weight Class', 'Fighter Stance', 'Is Title Bout']\n",
    "df[categorical_columns] = df[categorical_columns].astype('category')"
   ]
  },
  {
   "cell_type": "code",
   "execution_count": 20,
   "id": "e6a36f2c",
   "metadata": {},
   "outputs": [],
   "source": [
    "df['Fighter Age'] = df['Fighter Age'].astype('int32')\n",
    "# Similarly for other columns where precision isn't crucial"
   ]
  },
  {
   "cell_type": "code",
   "execution_count": 21,
   "id": "e0362c1d",
   "metadata": {},
   "outputs": [],
   "source": [
    "df['Is Title Bout'] = df['Is Title Bout'].astype('bool')"
   ]
  },
  {
   "cell_type": "code",
   "execution_count": 22,
   "id": "e6d780b5",
   "metadata": {},
   "outputs": [],
   "source": [
    "df['Fighter Age'] = df['Fighter Age'].astype('int32')\n",
    "df['Fighter Height (cm)'] = df['Fighter Height (cm)'].astype('float32')"
   ]
  },
  {
   "cell_type": "code",
   "execution_count": 23,
   "id": "304cc390",
   "metadata": {},
   "outputs": [
    {
     "name": "stdout",
     "output_type": "stream",
     "text": [
      "Fighter                                               category\n",
      "Fight Date                                      datetime64[ns]\n",
      "Fight Location                                        category\n",
      "City                                                  category\n",
      "State                                                 category\n",
      "Country                                               category\n",
      "Winner                                                category\n",
      "Is Title Bout                                             bool\n",
      "Weight Class                                          category\n",
      "Average Knockdowns                                     float64\n",
      "Average Knockdowns Taken                               float64\n",
      "Average Significant Strikes Percentage                 float64\n",
      "Average Significant Strikes Percentage Taken           float64\n",
      "Average Takedown Percentage                            float64\n",
      "Average Takedown Percentage Taken                      float64\n",
      "Average Submission Attempts                            float64\n",
      "Average Submission Attempts Taken                      float64\n",
      "Average Reversals                                      float64\n",
      "Average Reversals Taken                                float64\n",
      "Average Significant Strikes Attempted                  float64\n",
      "Average Significant Strikes Landed                     float64\n",
      "Average Significant Strikes Attempted Taken            float64\n",
      "Average Significant Strikes Landed Taken               float64\n",
      "Average Total Strikes Attempted                        float64\n",
      "Average Total Strikes Landed                           float64\n",
      "Average Total Strikes Attempted Taken                  float64\n",
      "Average Total Strikes Landed Taken                     float64\n",
      "Average Takedown Attempts                              float64\n",
      "Average Takedowns Landed                               float64\n",
      "Average Takedown Attempts Taken                        float64\n",
      "Average Takedowns Landed Taken                         float64\n",
      "Average Head Strikes Attempted                         float64\n",
      "Average Head Strikes Landed                            float64\n",
      "Average Head Strikes Attempted Taken                   float64\n",
      "Average Head Strikes Landed Taken                      float64\n",
      "Average Body Strikes Attempted                         float64\n",
      "Average Body Strikes Landed                            float64\n",
      "Average Body Strikes Attempted Taken                   float64\n",
      "Average Body Strikes Landed Taken                      float64\n",
      "Average Leg Strikes Attempted                          float64\n",
      "Average Leg Strikes Landed                             float64\n",
      "Average Leg Strikes Attempted Taken                    float64\n",
      "Average Leg Strikes Landed Taken                       float64\n",
      "Average Distance Strikes Attempted                     float64\n",
      "Average Distance Strikes Landed                        float64\n",
      "Average Distance Strikes Attempted Taken               float64\n",
      "Average Distance Strikes Landed Taken                  float64\n",
      "Average Clinch Strikes Attempted                       float64\n",
      "Average Clinch Strikes Landed                          float64\n",
      "Average Clinch Strikes Attempted Taken                 float64\n",
      "Average Clinch Strikes Landed Taken                    float64\n",
      "Average Ground Strikes Attempted                       float64\n",
      "Average Ground Strikes Landed                          float64\n",
      "Average Ground Strikes Attempted Taken                 float64\n",
      "Average Ground Strikes Landed Taken                    float64\n",
      "Average Control Time (Seconds)                         float64\n",
      "Average Control Time Taken (Seconds)                   float64\n",
      "Total Time Fought (Seconds)                            float64\n",
      "Total Rounds Fought                                      int64\n",
      "Total Title Bouts                                        int64\n",
      "Current Win Streak                                       int64\n",
      "Current Lose Streak                                      int64\n",
      "Longest Win Streak                                       int64\n",
      "Wins                                                     int64\n",
      "Losses                                                   int64\n",
      "Draws                                                    int64\n",
      "Wins By Decision Majority                                int64\n",
      "Wins By Decision Split                                   int64\n",
      "Wins By Decision Unanimous                               int64\n",
      "Wins By KO/TKO                                           int64\n",
      "Wins By Submission                                       int64\n",
      "Wins By TKO Doctor Stoppage                              int64\n",
      "Fighter Stance                                        category\n",
      "Fighter Height (cm)                                    float32\n",
      "Fighter Reach (cm)                                     float64\n",
      "Fighter Weight (lbs)                                   float64\n",
      "Fighter Age                                              int32\n",
      "dtype: object\n"
     ]
    }
   ],
   "source": [
    "# To check the data types of all columns in the DataFrame\n",
    "print(df.dtypes)"
   ]
  },
  {
   "cell_type": "code",
   "execution_count": 24,
   "id": "139d20af",
   "metadata": {},
   "outputs": [],
   "source": [
    "# Save the merged dataframe to CSV and XLSX files\n",
    "df.to_csv('UFC_final_data.csv', index=False)\n",
    "df.to_excel('UFC_final_data.xlsx', index=False)"
   ]
  }
 ],
 "metadata": {
  "kernelspec": {
   "display_name": "Python 3 (ipykernel)",
   "language": "python",
   "name": "python3"
  },
  "language_info": {
   "codemirror_mode": {
    "name": "ipython",
    "version": 3
   },
   "file_extension": ".py",
   "mimetype": "text/x-python",
   "name": "python",
   "nbconvert_exporter": "python",
   "pygments_lexer": "ipython3",
   "version": "3.11.7"
  }
 },
 "nbformat": 4,
 "nbformat_minor": 5
}
